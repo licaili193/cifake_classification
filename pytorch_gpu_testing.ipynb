{
 "cells": [
  {
   "cell_type": "code",
   "execution_count": 1,
   "id": "217ad7f4-1112-41f2-90ed-992bbe26c3a7",
   "metadata": {},
   "outputs": [
    {
     "name": "stdout",
     "output_type": "stream",
     "text": [
      "CUDA is available! Testing GPU...\n",
      "Result of computation:\n",
      " tensor([[8.0448e-01, 4.9588e-01, 3.9970e-01, 1.6859e-01, 2.1250e-01],\n",
      "        [4.6331e-02, 3.4333e-01, 3.1932e-01, 9.3544e-01, 9.2193e-01],\n",
      "        [1.5724e-02, 8.0879e-01, 5.2915e-02, 6.8263e-03, 6.4328e-01],\n",
      "        [7.8787e-03, 7.2858e-01, 9.5114e-03, 8.2778e-01, 1.2890e-01],\n",
      "        [6.7166e-01, 1.0485e-04, 7.4432e-01, 1.7780e-03, 3.0706e-04]],\n",
      "       device='cuda:0')\n"
     ]
    }
   ],
   "source": [
    "import torch\n",
    "\n",
    "# Check if CUDA is available\n",
    "if torch.cuda.is_available():\n",
    "    print(\"CUDA is available! Testing GPU...\")\n",
    "    \n",
    "    # Set the device to GPU\n",
    "    device = torch.device(\"cuda\")\n",
    "    \n",
    "    # Create a random tensor\n",
    "    x = torch.rand(5, 5).to(device)\n",
    "    \n",
    "    # Perform a simple computation\n",
    "    y = x * x\n",
    "    \n",
    "    # Print the result\n",
    "    print(\"Result of computation:\\n\", y)\n",
    "else:\n",
    "    print(\"CUDA is not available. Please check your installation.\")\n"
   ]
  },
  {
   "cell_type": "code",
   "execution_count": null,
   "id": "34c7a2b3-b03e-468f-b671-36abe8d70710",
   "metadata": {},
   "outputs": [],
   "source": []
  }
 ],
 "metadata": {
  "kernelspec": {
   "display_name": "Python 3 (ipykernel)",
   "language": "python",
   "name": "python3"
  },
  "language_info": {
   "codemirror_mode": {
    "name": "ipython",
    "version": 3
   },
   "file_extension": ".py",
   "mimetype": "text/x-python",
   "name": "python",
   "nbconvert_exporter": "python",
   "pygments_lexer": "ipython3",
   "version": "3.10.6"
  }
 },
 "nbformat": 4,
 "nbformat_minor": 5
}
