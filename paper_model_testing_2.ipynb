{
 "cells": [
  {
   "cell_type": "markdown",
   "id": "c181e285-4131-4c59-8094-6c510c17388e",
   "metadata": {},
   "source": [
    "## Step 1: Make Datasets"
   ]
  },
  {
   "cell_type": "code",
   "execution_count": 1,
   "id": "1e59f121-586b-48a2-b502-d25d44ef92ea",
   "metadata": {},
   "outputs": [],
   "source": [
    "import re\n",
    "import os\n",
    "import fnmatch\n",
    "from PIL import Image\n",
    "import matplotlib.pyplot as plt\n",
    "from concurrent.futures import ThreadPoolExecutor\n",
    "from tqdm.contrib.concurrent import thread_map\n",
    "\n",
    "import torch\n",
    "from torch.utils.data import Dataset\n",
    "import torchvision.transforms as transforms\n",
    "\n",
    "def list_files_by_type(folder_path, file_type):\n",
    "    filtered_files = []\n",
    "    for file in os.listdir(folder_path):\n",
    "        if fnmatch.fnmatch(file, f\"*.{file_type}\"):\n",
    "            filtered_files.append(os.path.join(folder_path, file))\n",
    "    return filtered_files\n",
    "\n",
    "def process_image(args):\n",
    "    file_path, label, transform = args  # Unpack the tuple\n",
    "    image = Image.open(file_path).convert(\"RGB\")\n",
    "    default_transform = transforms.Compose([\n",
    "        transforms.ToTensor(),\n",
    "        transforms.Resize((32, 32)),\n",
    "    ])\n",
    "    tensor = default_transform(image)\n",
    "    if transform:\n",
    "        tensor = transform(tensor)\n",
    "    return tensor, torch.tensor(label, dtype=torch.long), file_path\n",
    "\n",
    "class CIFAKEDataset(Dataset):\n",
    "    @staticmethod\n",
    "    def extract_index_and_category(file_path):\n",
    "        filename = os.path.basename(file_path)\n",
    "        pattern = r\"(\\d+)(?: \\((\\d+)\\))?\\..+\"\n",
    "        match = re.match(pattern, filename)\n",
    "        if match:\n",
    "            index = int(match.group(1))\n",
    "            category = int(match.group(2)) if match.group(2) else 0\n",
    "            return index, category\n",
    "        else:\n",
    "            return None\n",
    "    \n",
    "    @staticmethod\n",
    "    def load_folder(folder_path, label, category=None, transform=None, num_processes=1):\n",
    "        print(f\"Loading folder: {folder_path}\")\n",
    "        files = list_files_by_type(folder_path, \"jpg\")\n",
    "        if category is not None:\n",
    "            files = [file for file in files if CIFAKEDataset.extract_index_and_category(file)[1] == category]\n",
    "\n",
    "        # Use process_map from tqdm.contrib.concurrent for better tqdm updates\n",
    "        results = thread_map(process_image, [(file, label, transform) for file in files], max_workers=num_processes, chunksize=1)\n",
    "\n",
    "        x = torch.stack([result[0] for result in results])\n",
    "        y = torch.stack([result[1] for result in results])\n",
    "        file_paths = [result[2] for result in results]\n",
    "        return x, y, file_paths\n",
    "        \n",
    "    def __init__(self, folder_path, category=None, transform=None, num_processes=1, use_cifake_fold_structure=True):\n",
    "        self.latest_file_path = None\n",
    "        \n",
    "        if use_cifake_fold_structure:\n",
    "            label_1_folders = [\n",
    "                os.path.join(folder_path, \"train/REAL\"),\n",
    "                os.path.join(folder_path, \"test/REAL\"),\n",
    "            ]\n",
    "            label_0_folders = [\n",
    "                os.path.join(folder_path, \"train/FAKE\"),\n",
    "                os.path.join(folder_path, \"test/FAKE\"),\n",
    "            ]\n",
    "            x1, y1, fp_1 = CIFAKEDataset.load_folder(label_1_folders[0], 1, category, transform, num_processes)\n",
    "            x2, y2, fp_2 = CIFAKEDataset.load_folder(label_0_folders[0], 0, category, transform, num_processes)\n",
    "            x3, y3, fp_3 = CIFAKEDataset.load_folder(label_1_folders[1], 1, category, transform, num_processes)\n",
    "            x4, y4, fp_4 = CIFAKEDataset.load_folder(label_0_folders[1], 0, category, transform, num_processes)\n",
    "            self.x = torch.cat((x1, x2, x3, x4))\n",
    "            self.y = torch.cat((y1, y2, y3, y4))\n",
    "            self.file_paths = fp_1 + fp_2 + fp_3 + fp_4\n",
    "        else:\n",
    "            self.x, self.y, self.file_paths = CIFAKEDataset.load_folder(folder_path, 0, None, transform, num_processes)\n",
    "\n",
    "    def __len__(self):\n",
    "        return self.y.size(0)\n",
    "\n",
    "    def __getitem__(self, idx):\n",
    "        self.latest_file_path = self.file_paths[idx]\n",
    "        return self.x[idx], self.y[idx]\n",
    "    \n",
    "    def data_dim(self):\n",
    "        return self.x[0].size()\n",
    "    \n",
    "    def show_example(self, idx):\n",
    "        x, y = self[idx]\n",
    "        image_array = x.permute(1, 2, 0).numpy()\n",
    "        plt.imshow(image_array)\n",
    "        plt.title(f\"Label: {y}\")\n",
    "        plt.axis('off')\n",
    "        plt.show()\n",
    "\n",
    "    def latest_file_path(self):\n",
    "        return self.latest_file_path"
   ]
  },
  {
   "cell_type": "markdown",
   "id": "569d5a3a-e904-4b5b-ba0a-aa591661adda",
   "metadata": {},
   "source": [
    "## Step 2: Define Model"
   ]
  },
  {
   "cell_type": "code",
   "execution_count": 2,
   "id": "8240f413-e894-4c54-bb83-edf9d3c385f4",
   "metadata": {},
   "outputs": [],
   "source": [
    "import torch\n",
    "import torch.nn as nn\n",
    "import torch.nn.functional as F\n",
    "\n",
    "# Define the neural network model following the architecture in the provided diagram\n",
    "class CIFAKEClassifier(nn.Module):\n",
    "    def __init__(self):\n",
    "        super(CIFAKEClassifier, self).__init__()\n",
    "        # Assuming the input image size is 32x32x3 as per the rescale block in the diagram\n",
    "        self.conv1 = nn.Conv2d(3, 32, kernel_size=3, padding=1)  # Convolutional layer with 32 outputs\n",
    "        self.pool = nn.MaxPool2d(kernel_size=2, stride=2)  # Max pooling layer with a 2x2 window and stride 2\n",
    "        self.conv2 = nn.Conv2d(32, 32, kernel_size=3, padding=1)  # Second convolutional layer with 32 outputs\n",
    "        # Flatten layer will be applied in the forward pass\n",
    "        self.fc1 = nn.Linear(32 * 8 * 8, 64)  # Dense layer with 64 units\n",
    "        self.fc2 = nn.Linear(64, 1)  # Final dense layer with 1 unit for binary classification\n",
    "\n",
    "    def forward(self, x):\n",
    "        x = F.relu(self.conv1(x))  # Apply ReLU activation function after first convolution\n",
    "        x = self.pool(x)  # Apply max pooling\n",
    "        x = F.relu(self.conv2(x))  # Apply ReLU activation function after second convolution\n",
    "        x = self.pool(x)  # Apply max pooling\n",
    "        x = torch.flatten(x, 1)  # Flatten the tensor for the dense layer\n",
    "        x = F.relu(self.fc1(x))  # Apply ReLU activation function after first dense layer\n",
    "        x = torch.sigmoid(self.fc2(x))  # Apply sigmoid activation function for binary classification\n",
    "        return x"
   ]
  },
  {
   "cell_type": "markdown",
   "id": "6a6fd1d9-1842-43cc-99e4-3408d3c6437b",
   "metadata": {},
   "source": [
    "## Step 3: Helper Functions for Training"
   ]
  },
  {
   "cell_type": "code",
   "execution_count": 12,
   "id": "4dc8a162-ba0e-4a3d-9bdf-685985441d63",
   "metadata": {},
   "outputs": [],
   "source": [
    "from torch.utils.data import DataLoader, random_split\n",
    "from torch.optim import Adam\n",
    "import numpy as np\n",
    "from sklearn.metrics import precision_score, recall_score\n",
    "from tqdm import tqdm\n",
    "\n",
    "# Hyperparameters\n",
    "batch_size = 64\n",
    "learning_rate = 1e-3\n",
    "epochs = 5\n",
    "\n",
    "def make_dataloader(dataset, training_data_ratio=0.7):\n",
    "    # Create the training and testing splits\n",
    "    train_size = int(training_data_ratio * len(dataset))\n",
    "    test_size = len(dataset) - train_size\n",
    "    train_dataset, test_dataset = random_split(dataset, [train_size, test_size])\n",
    "    \n",
    "    # Dataloader for batch training\n",
    "    train_loader = DataLoader(dataset=train_dataset, batch_size=batch_size, shuffle=True)\n",
    "    test_loader = DataLoader(dataset=test_dataset, batch_size=batch_size, shuffle=False)\n",
    "\n",
    "    return train_loader, test_loader\n",
    "\n",
    "# Train the model\n",
    "def train_model(model, dataloader, epochs):\n",
    "    # Loss function and optimizer\n",
    "    criterion = nn.BCELoss()  # Binary Cross Entropy Loss for binary classification\n",
    "    optimizer = Adam(model.parameters(), lr=learning_rate)\n",
    "\n",
    "    model.train()\n",
    "    for epoch in range(epochs):\n",
    "        running_loss = 0.0\n",
    "        for i, data in enumerate(dataloader, 0):\n",
    "            inputs, labels = data\n",
    "            labels = labels.float()  # BCELoss expects labels to be in float format\n",
    "\n",
    "            # Zero the parameter gradients\n",
    "            optimizer.zero_grad()\n",
    "\n",
    "            # Forward pass\n",
    "            outputs = model(inputs).squeeze()  # Remove unnecessary dimensions\n",
    "            loss = criterion(outputs, labels)\n",
    "\n",
    "            # Backward pass and optimize\n",
    "            loss.backward()\n",
    "            optimizer.step()\n",
    "\n",
    "            running_loss += loss.item()\n",
    "            if i % 100 == 99:  # Print every 100 mini-batches\n",
    "                print(f'Epoch {epoch + 1}, Batch {i + 1}, Loss: {running_loss / 10:.4f}')\n",
    "                running_loss = 0.0\n",
    "\n",
    "    print('Finished Training')\n",
    "\n",
    "# Test the model\n",
    "def test_model(model, dataloader):\n",
    "    model.eval()\n",
    "    correct = 0\n",
    "    total = 0\n",
    "    with torch.no_grad():\n",
    "        for data in dataloader:\n",
    "            images, labels = data\n",
    "            outputs = model(images).squeeze()  # Remove unnecessary dimensions\n",
    "            predicted = torch.round(outputs)  # Round to get binary predictions\n",
    "            total += labels.size(0)\n",
    "            correct += (predicted == labels).sum().item()\n",
    "\n",
    "    accuracy = 100 * correct / total\n",
    "    print(f'Accuracy of the network on the test images: {accuracy:.2f}%')\n",
    "\n",
    "# Test the model and calculate precision, recall, and specificity\n",
    "def test_model_with_metrics(model, dataloader):\n",
    "    model.eval()\n",
    "    correct = 0\n",
    "    total = 0\n",
    "    all_labels = []\n",
    "    all_predictions = []\n",
    "\n",
    "    with torch.no_grad():\n",
    "        for data in dataloader:\n",
    "            images, labels = data\n",
    "            outputs = model(images).squeeze()  # Remove unnecessary dimensions\n",
    "            predicted = torch.round(outputs)  # Round to get binary predictions\n",
    "            \n",
    "            all_labels.extend(labels.cpu().numpy())\n",
    "            all_predictions.extend(predicted.cpu().numpy())\n",
    "            \n",
    "            total += labels.size(0)\n",
    "            correct += (predicted == labels).sum().item()\n",
    "\n",
    "    accuracy = 100 * correct / total\n",
    "    precision = 100 * precision_score(all_labels, all_predictions)\n",
    "    recall = 100 * recall_score(all_labels, all_predictions)\n",
    "\n",
    "    # Calculate specificity\n",
    "    TN = ((1 - np.array(all_predictions)) * (1 - np.array(all_labels))).sum()\n",
    "    FN = ((1 - np.array(all_predictions)) * np.array(all_labels)).sum()\n",
    "    specificity = 100 * TN / (TN + FN)\n",
    "\n",
    "    print(f'Accuracy of the network on the test images: {accuracy:.2f}%')\n",
    "    print(f'Precision of the network on the test images: {precision:.2f}%')\n",
    "    print(f'Recall of the network on the test images: {recall:.2f}%')\n",
    "    print(f'Specificity of the network on the test images: {specificity:.2f}%')\n",
    "\n",
    "def evaluate_folder(model, folder_path):\n",
    "    \"\"\"Evaluate a single folder of images and return the counts and rates.\"\"\"\n",
    "    model.eval()\n",
    "    \n",
    "    count_0 = 0\n",
    "    count_1 = 0\n",
    "    total_images = 0\n",
    "\n",
    "    image_list = os.listdir(folder_path)\n",
    "\n",
    "    transform = transforms.Compose([\n",
    "        transforms.ToTensor(),\n",
    "        transforms.Resize((32, 32)),\n",
    "    ])\n",
    "    for image_name in tqdm(image_list, desc=\"Evaluating images\"):\n",
    "        try:\n",
    "            image_path = os.path.join(folder_path, image_name)\n",
    "            image = Image.open(image_path).convert(\"RGB\")\n",
    "            image = transform(image)\n",
    "            image = image.unsqueeze(0)  # Add batch dimension\n",
    "        except Exception as e:\n",
    "            print(f\"Warning: failed to load one image {image_path}, Error: {e}\")\n",
    "            continue\n",
    "\n",
    "        with torch.no_grad():\n",
    "            output = model(image).squeeze()  # Remove unnecessary dimensions\n",
    "            predicted = torch.round(output)  # Round to get binary predictions\n",
    "            label = predicted.item()\n",
    "\n",
    "        if label == 0:\n",
    "            count_0 += 1\n",
    "        else:\n",
    "            count_1 += 1\n",
    "\n",
    "        total_images += 1\n",
    "\n",
    "    rate_0 = (count_0 / total_images) * 100 if total_images > 0 else 0\n",
    "    rate_1 = (count_1 / total_images) * 100 if total_images > 0 else 0\n",
    "\n",
    "    return count_0, count_1, rate_0, rate_1"
   ]
  },
  {
   "cell_type": "markdown",
   "id": "bf8e1329-3d21-4c27-a3db-89dc5df4b33e",
   "metadata": {},
   "source": [
    "## Step 4: Load Original CIFAKE Data and Train"
   ]
  },
  {
   "cell_type": "code",
   "execution_count": 4,
   "id": "aba49d85-a39b-438a-a695-f1ec5e4de58d",
   "metadata": {},
   "outputs": [
    {
     "name": "stdout",
     "output_type": "stream",
     "text": [
      "Loading CIFAKEDataset...\n",
      "Loading folder: data/CIFAKE\\train/REAL\n"
     ]
    },
    {
     "data": {
      "application/vnd.jupyter.widget-view+json": {
       "model_id": "fbf71a91f342493996a9db806547022d",
       "version_major": 2,
       "version_minor": 0
      },
      "text/plain": [
       "  0%|          | 0/50000 [00:00<?, ?it/s]"
      ]
     },
     "metadata": {},
     "output_type": "display_data"
    },
    {
     "name": "stdout",
     "output_type": "stream",
     "text": [
      "Loading folder: data/CIFAKE\\train/FAKE\n"
     ]
    },
    {
     "data": {
      "application/vnd.jupyter.widget-view+json": {
       "model_id": "75e16414b79a4711b3e6e9d4821be602",
       "version_major": 2,
       "version_minor": 0
      },
      "text/plain": [
       "  0%|          | 0/50000 [00:00<?, ?it/s]"
      ]
     },
     "metadata": {},
     "output_type": "display_data"
    },
    {
     "name": "stdout",
     "output_type": "stream",
     "text": [
      "Loading folder: data/CIFAKE\\test/REAL\n"
     ]
    },
    {
     "data": {
      "application/vnd.jupyter.widget-view+json": {
       "model_id": "6573cc7187a94198bd10e00432f288d3",
       "version_major": 2,
       "version_minor": 0
      },
      "text/plain": [
       "  0%|          | 0/10000 [00:00<?, ?it/s]"
      ]
     },
     "metadata": {},
     "output_type": "display_data"
    },
    {
     "name": "stdout",
     "output_type": "stream",
     "text": [
      "Loading folder: data/CIFAKE\\test/FAKE\n"
     ]
    },
    {
     "data": {
      "application/vnd.jupyter.widget-view+json": {
       "model_id": "a6d6f4b01d3b4011997610a69076ec90",
       "version_major": 2,
       "version_minor": 0
      },
      "text/plain": [
       "  0%|          | 0/10000 [00:00<?, ?it/s]"
      ]
     },
     "metadata": {},
     "output_type": "display_data"
    },
    {
     "name": "stdout",
     "output_type": "stream",
     "text": [
      "Dataset loaded successfully!\n",
      "Dataset length: 120000\n",
      "Data dimension: torch.Size([3, 32, 32])\n",
      "Showing example image...\n"
     ]
    },
    {
     "data": {
      "image/png": "[encoded data removed]",
      "text/plain": [
       "<Figure size 640x480 with 1 Axes>"
      ]
     },
     "metadata": {},
     "output_type": "display_data"
    },
    {
     "name": "stdout",
     "output_type": "stream",
     "text": [
      "Epoch 1, Batch 100, Loss: 5.4052\n",
      "Epoch 1, Batch 200, Loss: 4.3547\n",
      "Epoch 1, Batch 300, Loss: 3.9126\n",
      "Epoch 1, Batch 400, Loss: 3.7284\n",
      "Epoch 1, Batch 500, Loss: 3.3896\n",
      "Epoch 1, Batch 600, Loss: 3.2081\n",
      "Epoch 1, Batch 700, Loss: 3.0949\n",
      "Epoch 1, Batch 800, Loss: 3.0079\n",
      "Epoch 1, Batch 900, Loss: 3.0333\n",
      "Epoch 1, Batch 1000, Loss: 2.7797\n",
      "Epoch 1, Batch 1100, Loss: 2.7444\n",
      "Epoch 1, Batch 1200, Loss: 2.6845\n",
      "Epoch 1, Batch 1300, Loss: 2.7478\n",
      "Epoch 2, Batch 100, Loss: 2.3211\n",
      "Epoch 2, Batch 200, Loss: 2.3203\n",
      "Epoch 2, Batch 300, Loss: 2.3063\n",
      "Epoch 2, Batch 400, Loss: 2.3358\n",
      "Epoch 2, Batch 500, Loss: 2.2801\n",
      "Epoch 2, Batch 600, Loss: 2.2012\n",
      "Epoch 2, Batch 700, Loss: 2.2305\n",
      "Epoch 2, Batch 800, Loss: 2.0416\n",
      "Epoch 2, Batch 900, Loss: 2.0625\n",
      "Epoch 2, Batch 1000, Loss: 2.1312\n",
      "Epoch 2, Batch 1100, Loss: 2.0476\n",
      "Epoch 2, Batch 1200, Loss: 2.1008\n",
      "Epoch 2, Batch 1300, Loss: 1.9720\n",
      "Epoch 3, Batch 100, Loss: 1.8592\n",
      "Epoch 3, Batch 200, Loss: 1.8631\n",
      "Epoch 3, Batch 300, Loss: 1.9179\n",
      "Epoch 3, Batch 400, Loss: 1.8348\n",
      "Epoch 3, Batch 500, Loss: 1.9218\n",
      "Epoch 3, Batch 600, Loss: 1.7999\n",
      "Epoch 3, Batch 700, Loss: 1.8604\n",
      "Epoch 3, Batch 800, Loss: 1.7915\n",
      "Epoch 3, Batch 900, Loss: 1.7869\n",
      "Epoch 3, Batch 1000, Loss: 1.9459\n",
      "Epoch 3, Batch 1100, Loss: 1.8298\n",
      "Epoch 3, Batch 1200, Loss: 1.8525\n",
      "Epoch 3, Batch 1300, Loss: 1.8223\n",
      "Epoch 4, Batch 100, Loss: 1.6858\n",
      "Epoch 4, Batch 200, Loss: 1.6835\n",
      "Epoch 4, Batch 300, Loss: 1.8168\n",
      "Epoch 4, Batch 400, Loss: 1.7172\n",
      "Epoch 4, Batch 500, Loss: 1.6424\n",
      "Epoch 4, Batch 600, Loss: 1.6987\n",
      "Epoch 4, Batch 700, Loss: 1.6132\n",
      "Epoch 4, Batch 800, Loss: 1.7294\n",
      "Epoch 4, Batch 900, Loss: 1.6430\n",
      "Epoch 4, Batch 1000, Loss: 1.5135\n",
      "Epoch 4, Batch 1100, Loss: 1.6797\n",
      "Epoch 4, Batch 1200, Loss: 1.5566\n",
      "Epoch 4, Batch 1300, Loss: 1.6351\n",
      "Epoch 5, Batch 100, Loss: 1.5517\n",
      "Epoch 5, Batch 200, Loss: 1.5343\n",
      "Epoch 5, Batch 300, Loss: 1.5621\n",
      "Epoch 5, Batch 400, Loss: 1.5668\n",
      "Epoch 5, Batch 500, Loss: 1.5419\n",
      "Epoch 5, Batch 600, Loss: 1.5031\n",
      "Epoch 5, Batch 700, Loss: 1.5300\n",
      "Epoch 5, Batch 800, Loss: 1.5797\n",
      "Epoch 5, Batch 900, Loss: 1.5060\n",
      "Epoch 5, Batch 1000, Loss: 1.5077\n",
      "Epoch 5, Batch 1100, Loss: 1.6057\n",
      "Epoch 5, Batch 1200, Loss: 1.4522\n",
      "Epoch 5, Batch 1300, Loss: 1.4955\n",
      "Finished Training\n",
      "Accuracy of the network on the test images: 93.74%\n",
      "Accuracy of the network on the test images: 93.74%\n",
      "Precision of the network on the test images: 92.07%\n",
      "Recall of the network on the test images: 95.67%\n",
      "Specificity of the network on the test images: 95.54%\n"
     ]
    }
   ],
   "source": [
    "print(\"Loading CIFAKEDataset...\")\n",
    "dataset_1 = CIFAKEDataset(\"data/CIFAKE\", num_processes=4)\n",
    "print(\"Dataset loaded successfully!\")\n",
    "print(\"Dataset length:\", len(dataset_1))\n",
    "print(\"Data dimension:\", dataset_1.data_dim())\n",
    "print(\"Showing example image...\")\n",
    "dataset_1.show_example(0)\n",
    "\n",
    "# Instantiate the model\n",
    "model_1 = CIFAKEClassifier()\n",
    "\n",
    "# Adding training and testing to the notebook\n",
    "train_loader_1, test_loader_1 = make_dataloader(dataset_1)\n",
    "train_model(model_1, train_loader_1, epochs)\n",
    "test_model(model_1, test_loader_1)\n",
    "test_model_with_metrics(model_1, test_loader_1)"
   ]
  },
  {
   "cell_type": "markdown",
   "id": "0bfaa242-b055-4e6b-a6bc-e60a6cf033e8",
   "metadata": {},
   "source": [
    "## Step 5: Evaluate Original CIFAKE Data Model on SD 2.1 Images"
   ]
  },
  {
   "cell_type": "code",
   "execution_count": 13,
   "id": "c53c75c1-83b5-4488-b287-9fa304cd53bb",
   "metadata": {},
   "outputs": [
    {
     "name": "stderr",
     "output_type": "stream",
     "text": [
      "Evaluating images: 100%|███████████████████████████████████████████████████████████████████████████████████████████████████████████████████████████████████████████████| 12500/12500 [00:40<00:00, 310.25it/s]\n"
     ]
    },
    {
     "name": "stdout",
     "output_type": "stream",
     "text": [
      "Specificity on data/sd_2_1_dogs_with_modifiers: 97.112\n"
     ]
    },
    {
     "name": "stderr",
     "output_type": "stream",
     "text": [
      "Evaluating images: 100%|███████████████████████████████████████████████████████████████████████████████████████████████████████████████████████████████████████████████| 12500/12500 [00:38<00:00, 325.51it/s]"
     ]
    },
    {
     "name": "stdout",
     "output_type": "stream",
     "text": [
      "Specificity on data/sd_2_1_cats_with_modifiers: 96.96000000000001\n"
     ]
    },
    {
     "name": "stderr",
     "output_type": "stream",
     "text": [
      "\n"
     ]
    }
   ],
   "source": [
    "_, _, s,_ = evaluate_folder(model_1, \"data/sd_2_1_dogs_with_modifiers_small\")\n",
    "print(f\"Specificity on data/sd_2_1_dogs_with_modifiers: {s}\")\n",
    "_, _, s,_ = evaluate_folder(model_1, \"data/sd_2_1_cats_with_modifiers_small\")\n",
    "print(f\"Specificity on data/sd_2_1_cats_with_modifiers: {s}\")"
   ]
  },
  {
   "cell_type": "markdown",
   "id": "f030a14b-6a83-4555-aa2c-d3b0bf64ea26",
   "metadata": {},
   "source": [
    "## Step 6: Load 2.1 CIFAKE Data and Train"
   ]
  },
  {
   "cell_type": "code",
   "execution_count": 6,
   "id": "d4626002-355e-47f5-910b-c2021b5e4b57",
   "metadata": {},
   "outputs": [
    {
     "name": "stdout",
     "output_type": "stream",
     "text": [
      "Loading CIFAKEDataset 2.1...\n",
      "Loading folder: data/CIFAKE-3\\train/REAL\n"
     ]
    },
    {
     "data": {
      "application/vnd.jupyter.widget-view+json": {
       "model_id": "3991eb53e9d84a98b1fcbdb7cb3cb53b",
       "version_major": 2,
       "version_minor": 0
      },
      "text/plain": [
       "  0%|          | 0/12499 [00:00<?, ?it/s]"
      ]
     },
     "metadata": {},
     "output_type": "display_data"
    },
    {
     "name": "stdout",
     "output_type": "stream",
     "text": [
      "Loading folder: data/CIFAKE-3\\train/FAKE\n"
     ]
    },
    {
     "data": {
      "application/vnd.jupyter.widget-view+json": {
       "model_id": "d3e7b63c41aa49cebcf47617e1dabf66",
       "version_major": 2,
       "version_minor": 0
      },
      "text/plain": [
       "  0%|          | 0/12500 [00:00<?, ?it/s]"
      ]
     },
     "metadata": {},
     "output_type": "display_data"
    },
    {
     "name": "stdout",
     "output_type": "stream",
     "text": [
      "Loading folder: data/CIFAKE-3\\test/REAL\n"
     ]
    },
    {
     "data": {
      "application/vnd.jupyter.widget-view+json": {
       "model_id": "76e1eed69fea45b18844c7fd17fcfaaf",
       "version_major": 2,
       "version_minor": 0
      },
      "text/plain": [
       "  0%|          | 0/12499 [00:00<?, ?it/s]"
      ]
     },
     "metadata": {},
     "output_type": "display_data"
    },
    {
     "name": "stdout",
     "output_type": "stream",
     "text": [
      "Loading folder: data/CIFAKE-3\\test/FAKE\n"
     ]
    },
    {
     "data": {
      "application/vnd.jupyter.widget-view+json": {
       "model_id": "779125243e8f490fa27109e876073097",
       "version_major": 2,
       "version_minor": 0
      },
      "text/plain": [
       "  0%|          | 0/12500 [00:00<?, ?it/s]"
      ]
     },
     "metadata": {},
     "output_type": "display_data"
    },
    {
     "name": "stdout",
     "output_type": "stream",
     "text": [
      "Dataset loaded successfully!\n",
      "Dataset length: 49998\n",
      "Data dimension: torch.Size([3, 32, 32])\n",
      "Showing example image...\n"
     ]
    },
    {
     "data": {
      "image/png": "[encoded data removed]",
      "text/plain": [
       "<Figure size 640x480 with 1 Axes>"
      ]
     },
     "metadata": {},
     "output_type": "display_data"
    },
    {
     "name": "stdout",
     "output_type": "stream",
     "text": [
      "Epoch 1, Batch 100, Loss: 4.7808\n",
      "Epoch 1, Batch 200, Loss: 2.8958\n",
      "Epoch 1, Batch 300, Loss: 2.3667\n",
      "Epoch 1, Batch 400, Loss: 2.5452\n",
      "Epoch 1, Batch 500, Loss: 2.1211\n",
      "Epoch 2, Batch 100, Loss: 1.7847\n",
      "Epoch 2, Batch 200, Loss: 1.8676\n",
      "Epoch 2, Batch 300, Loss: 1.7247\n",
      "Epoch 2, Batch 400, Loss: 1.6557\n",
      "Epoch 2, Batch 500, Loss: 1.4958\n",
      "Epoch 3, Batch 100, Loss: 1.4471\n",
      "Epoch 3, Batch 200, Loss: 1.2965\n",
      "Epoch 3, Batch 300, Loss: 1.3908\n",
      "Epoch 3, Batch 400, Loss: 1.5096\n",
      "Epoch 3, Batch 500, Loss: 1.3684\n",
      "Epoch 4, Batch 100, Loss: 1.3088\n",
      "Epoch 4, Batch 200, Loss: 1.2152\n",
      "Epoch 4, Batch 300, Loss: 1.2109\n",
      "Epoch 4, Batch 400, Loss: 1.2756\n",
      "Epoch 4, Batch 500, Loss: 1.1841\n",
      "Epoch 5, Batch 100, Loss: 1.0262\n",
      "Epoch 5, Batch 200, Loss: 1.0594\n",
      "Epoch 5, Batch 300, Loss: 1.1564\n",
      "Epoch 5, Batch 400, Loss: 1.1899\n",
      "Epoch 5, Batch 500, Loss: 1.0601\n",
      "Finished Training\n",
      "Accuracy of the network on the test images: 96.09%\n",
      "Accuracy of the network on the test images: 96.09%\n",
      "Precision of the network on the test images: 95.36%\n",
      "Recall of the network on the test images: 96.87%\n",
      "Specificity of the network on the test images: 96.84%\n"
     ]
    }
   ],
   "source": [
    "print(\"Loading CIFAKEDataset 2.1...\")\n",
    "dataset_2 = CIFAKEDataset(\"data/CIFAKE-3\", num_processes=4)\n",
    "print(\"Dataset loaded successfully!\")\n",
    "print(\"Dataset length:\", len(dataset_2))\n",
    "print(\"Data dimension:\", dataset_2.data_dim())\n",
    "print(\"Showing example image...\")\n",
    "dataset_2.show_example(0)\n",
    "\n",
    "# Instantiate the model\n",
    "model_2 = CIFAKEClassifier()\n",
    "\n",
    "# Adding training and testing to the notebook\n",
    "train_loader_2, test_loader_2 = make_dataloader(dataset_2)\n",
    "train_model(model_2, train_loader_2, epochs)\n",
    "test_model(model_2, test_loader_2)\n",
    "test_model_with_metrics(model_2, test_loader_2)"
   ]
  },
  {
   "cell_type": "markdown",
   "id": "f64a29c5-6952-408f-b376-f9618eded22f",
   "metadata": {},
   "source": [
    "## Step 7: Evaluate Original CIFAKE Data Model on SD 2.1 Images Again"
   ]
  },
  {
   "cell_type": "code",
   "execution_count": 15,
   "id": "016d1668-9d12-4019-a33c-8d999cb62a7b",
   "metadata": {},
   "outputs": [
    {
     "name": "stderr",
     "output_type": "stream",
     "text": [
      "Evaluating images: 100%|████████████████████████████████████████████████████████████████████████████████████████████████████████████████████████████████████████████████| 12500/12500 [05:32<00:00, 37.58it/s]\n"
     ]
    },
    {
     "name": "stdout",
     "output_type": "stream",
     "text": [
      "Specificity on data/sd_2_1_dogs_with_modifiers: 79.34400000000001\n"
     ]
    },
    {
     "name": "stderr",
     "output_type": "stream",
     "text": [
      "Evaluating images: 100%|████████████████████████████████████████████████████████████████████████████████████████████████████████████████████████████████████████████████| 12500/12500 [05:12<00:00, 39.99it/s]\n"
     ]
    },
    {
     "name": "stdout",
     "output_type": "stream",
     "text": [
      "Specificity on data/sd_2_1_cats_with_modifiers: 67.816\n",
      "=====================\n"
     ]
    },
    {
     "name": "stderr",
     "output_type": "stream",
     "text": [
      "Evaluating images: 100%|███████████████████████████████████████████████████████████████████████████████████████████████████████████████████████████████████████████████| 12500/12500 [00:47<00:00, 262.14it/s]\n"
     ]
    },
    {
     "name": "stdout",
     "output_type": "stream",
     "text": [
      "Specificity on data/sd_2_1_dogs_with_modifiers: 96.39999999999999\n"
     ]
    },
    {
     "name": "stderr",
     "output_type": "stream",
     "text": [
      "Evaluating images: 100%|███████████████████████████████████████████████████████████████████████████████████████████████████████████████████████████████████████████████| 12500/12500 [00:39<00:00, 315.60it/s]"
     ]
    },
    {
     "name": "stdout",
     "output_type": "stream",
     "text": [
      "Specificity on data/sd_2_1_cats_with_modifiers: 94.368\n"
     ]
    },
    {
     "name": "stderr",
     "output_type": "stream",
     "text": [
      "\n"
     ]
    }
   ],
   "source": [
    "_, _, s,_ = evaluate_folder(model_2, \"data/sd_2_1_dogs_with_modifiers\")\n",
    "print(f\"Specificity on data/sd_2_1_dogs_with_modifiers: {s}\")\n",
    "_, _, s,_ = evaluate_folder(model_2, \"data/sd_2_1_cats_with_modifiers\")\n",
    "print(f\"Specificity on data/sd_2_1_cats_with_modifiers: {s}\")\n",
    "print(\"=====================\")\n",
    "_, _, s,_ = evaluate_folder(model_2, \"data/sd_2_1_dogs_with_modifiers_small\")\n",
    "print(f\"Specificity on data/sd_2_1_dogs_with_modifiers: {s}\")\n",
    "_, _, s,_ = evaluate_folder(model_2, \"data/sd_2_1_cats_with_modifiers_small\")\n",
    "print(f\"Specificity on data/sd_2_1_cats_with_modifiers: {s}\")"
   ]
  },
  {
   "cell_type": "markdown",
   "id": "11aec462-e2cf-4269-bc90-badc8bac78ff",
   "metadata": {},
   "source": [
    "## Step 8: Find Top 200 Most Fake 2.1 Dogs"
   ]
  },
  {
   "cell_type": "code",
   "execution_count": 17,
   "id": "0e3ed71f-6a50-46db-8af4-575fe591d24b",
   "metadata": {},
   "outputs": [
    {
     "name": "stdout",
     "output_type": "stream",
     "text": [
      "Loading folder: data/sd_2_1_dogs_with_modifiers_small\n"
     ]
    },
    {
     "data": {
      "application/vnd.jupyter.widget-view+json": {
       "model_id": "6aac2b670090445dac14c1c956e579b1",
       "version_major": 2,
       "version_minor": 0
      },
      "text/plain": [
       "  0%|          | 0/12500 [00:00<?, ?it/s]"
      ]
     },
     "metadata": {},
     "output_type": "display_data"
    },
    {
     "name": "stderr",
     "output_type": "stream",
     "text": [
      "Evaluating images: 100%|███████████████████████████████████████████████████████████████████████████████████████████████████████████████████████████████████████████████| 12500/12500 [00:13<00:00, 952.55it/s]"
     ]
    },
    {
     "name": "stdout",
     "output_type": "stream",
     "text": [
      "[{'file': 'data/sd_2_1_dogs_with_modifiers_small\\\\image_302_n.jpg', 'score': 3.3614446692808997e-07}, {'file': 'data/sd_2_1_dogs_with_modifiers_small\\\\image_3253_n.jpg', 'score': 8.212269904106506e-07}, {'file': 'data/sd_2_1_dogs_with_modifiers_small\\\\image_5951_n.jpg', 'score': 1.0248169246551697e-06}, {'file': 'data/sd_2_1_dogs_with_modifiers_small\\\\image_1144_n.jpg', 'score': 1.1179819239259814e-06}, {'file': 'data/sd_2_1_dogs_with_modifiers_small\\\\image_7507_n.jpg', 'score': 1.2249691963006626e-06}, {'file': 'data/sd_2_1_dogs_with_modifiers_small\\\\image_7988_n.jpg', 'score': 1.3956869224784896e-06}, {'file': 'data/sd_2_1_dogs_with_modifiers_small\\\\image_7477_n.jpg', 'score': 1.4647708894699463e-06}, {'file': 'data/sd_2_1_dogs_with_modifiers_small\\\\image_10162_n.jpg', 'score': 1.5987288861651905e-06}, {'file': 'data/sd_2_1_dogs_with_modifiers_small\\\\image_11162_n.jpg', 'score': 1.6244734979409259e-06}, {'file': 'data/sd_2_1_dogs_with_modifiers_small\\\\image_10858_n.jpg', 'score': 1.9945357507822337e-06}, {'file': 'data/sd_2_1_dogs_with_modifiers_small\\\\image_10511_n.jpg', 'score': 2.0622298961825436e-06}, {'file': 'data/sd_2_1_dogs_with_modifiers_small\\\\image_4694_n.jpg', 'score': 2.2013200577930547e-06}, {'file': 'data/sd_2_1_dogs_with_modifiers_small\\\\image_11874_n.jpg', 'score': 2.27163059207669e-06}, {'file': 'data/sd_2_1_dogs_with_modifiers_small\\\\image_9908_n.jpg', 'score': 2.424793137834058e-06}, {'file': 'data/sd_2_1_dogs_with_modifiers_small\\\\image_9919_n.jpg', 'score': 2.666503860382363e-06}, {'file': 'data/sd_2_1_dogs_with_modifiers_small\\\\image_7606_n.jpg', 'score': 2.9081386401230702e-06}, {'file': 'data/sd_2_1_dogs_with_modifiers_small\\\\image_201_n.jpg', 'score': 2.9263808301038807e-06}, {'file': 'data/sd_2_1_dogs_with_modifiers_small\\\\image_11256_n.jpg', 'score': 3.0628161766799167e-06}, {'file': 'data/sd_2_1_dogs_with_modifiers_small\\\\image_9699_n.jpg', 'score': 3.254428975196788e-06}, {'file': 'data/sd_2_1_dogs_with_modifiers_small\\\\image_5302_n.jpg', 'score': 3.414055072425981e-06}, {'file': 'data/sd_2_1_dogs_with_modifiers_small\\\\image_8411_n.jpg', 'score': 3.7780869206471834e-06}, {'file': 'data/sd_2_1_dogs_with_modifiers_small\\\\image_11618_n.jpg', 'score': 3.87564568882226e-06}, {'file': 'data/sd_2_1_dogs_with_modifiers_small\\\\image_5483_n.jpg', 'score': 4.1167081690218765e-06}, {'file': 'data/sd_2_1_dogs_with_modifiers_small\\\\image_832_n.jpg', 'score': 4.4069133764423896e-06}, {'file': 'data/sd_2_1_dogs_with_modifiers_small\\\\image_8202_n.jpg', 'score': 4.41134079665062e-06}, {'file': 'data/sd_2_1_dogs_with_modifiers_small\\\\image_3459_n.jpg', 'score': 4.436587460077135e-06}, {'file': 'data/sd_2_1_dogs_with_modifiers_small\\\\image_5544_n.jpg', 'score': 5.085696102469228e-06}, {'file': 'data/sd_2_1_dogs_with_modifiers_small\\\\image_6711_n.jpg', 'score': 5.147838237462565e-06}, {'file': 'data/sd_2_1_dogs_with_modifiers_small\\\\image_6842_n.jpg', 'score': 5.278611752146389e-06}, {'file': 'data/sd_2_1_dogs_with_modifiers_small\\\\image_11883_n.jpg', 'score': 5.357249847293133e-06}, {'file': 'data/sd_2_1_dogs_with_modifiers_small\\\\image_10322_n.jpg', 'score': 5.650142611557385e-06}, {'file': 'data/sd_2_1_dogs_with_modifiers_small\\\\image_3623_n.jpg', 'score': 5.831898306496441e-06}, {'file': 'data/sd_2_1_dogs_with_modifiers_small\\\\image_2632_n.jpg', 'score': 5.833061095472658e-06}, {'file': 'data/sd_2_1_dogs_with_modifiers_small\\\\image_6991_n.jpg', 'score': 5.843344297318254e-06}, {'file': 'data/sd_2_1_dogs_with_modifiers_small\\\\image_6806_n.jpg', 'score': 5.8953100960934535e-06}, {'file': 'data/sd_2_1_dogs_with_modifiers_small\\\\image_2453_n.jpg', 'score': 6.01618921791669e-06}, {'file': 'data/sd_2_1_dogs_with_modifiers_small\\\\image_2160_n.jpg', 'score': 6.055487119738245e-06}, {'file': 'data/sd_2_1_dogs_with_modifiers_small\\\\image_605_n.jpg', 'score': 6.278797172853956e-06}, {'file': 'data/sd_2_1_dogs_with_modifiers_small\\\\image_4860_n.jpg', 'score': 6.542059054481797e-06}, {'file': 'data/sd_2_1_dogs_with_modifiers_small\\\\image_978_n.jpg', 'score': 6.6087732193409465e-06}, {'file': 'data/sd_2_1_dogs_with_modifiers_small\\\\image_8859_n.jpg', 'score': 6.633987595705548e-06}, {'file': 'data/sd_2_1_dogs_with_modifiers_small\\\\image_1080_n.jpg', 'score': 6.664532520517241e-06}, {'file': 'data/sd_2_1_dogs_with_modifiers_small\\\\image_10754_n.jpg', 'score': 6.785778168705292e-06}, {'file': 'data/sd_2_1_dogs_with_modifiers_small\\\\image_3582_n.jpg', 'score': 6.817191660957178e-06}, {'file': 'data/sd_2_1_dogs_with_modifiers_small\\\\image_6572_n.jpg', 'score': 6.864816896268167e-06}, {'file': 'data/sd_2_1_dogs_with_modifiers_small\\\\image_5073_n.jpg', 'score': 6.998416210990399e-06}, {'file': 'data/sd_2_1_dogs_with_modifiers_small\\\\image_7194_n.jpg', 'score': 7.118420853657881e-06}, {'file': 'data/sd_2_1_dogs_with_modifiers_small\\\\image_6248_n.jpg', 'score': 7.375349468929926e-06}, {'file': 'data/sd_2_1_dogs_with_modifiers_small\\\\image_507_n.jpg', 'score': 7.417332199111115e-06}, {'file': 'data/sd_2_1_dogs_with_modifiers_small\\\\image_7130_n.jpg', 'score': 8.13652604847448e-06}, {'file': 'data/sd_2_1_dogs_with_modifiers_small\\\\image_5949_n.jpg', 'score': 8.235828317992855e-06}, {'file': 'data/sd_2_1_dogs_with_modifiers_small\\\\image_5148_n.jpg', 'score': 8.414867807005066e-06}, {'file': 'data/sd_2_1_dogs_with_modifiers_small\\\\image_3041_n.jpg', 'score': 8.441963473160286e-06}, {'file': 'data/sd_2_1_dogs_with_modifiers_small\\\\image_7804_n.jpg', 'score': 8.59155352372909e-06}, {'file': 'data/sd_2_1_dogs_with_modifiers_small\\\\image_7603_n.jpg', 'score': 8.915244507079478e-06}, {'file': 'data/sd_2_1_dogs_with_modifiers_small\\\\image_11909_n.jpg', 'score': 9.126487384492066e-06}, {'file': 'data/sd_2_1_dogs_with_modifiers_small\\\\image_6405_n.jpg', 'score': 9.235616744263098e-06}, {'file': 'data/sd_2_1_dogs_with_modifiers_small\\\\image_6303_n.jpg', 'score': 9.357599992654286e-06}, {'file': 'data/sd_2_1_dogs_with_modifiers_small\\\\image_969_n.jpg', 'score': 9.386138117406517e-06}, {'file': 'data/sd_2_1_dogs_with_modifiers_small\\\\image_3870_n.jpg', 'score': 9.569946996634826e-06}, {'file': 'data/sd_2_1_dogs_with_modifiers_small\\\\image_10074_n.jpg', 'score': 9.67117193795275e-06}, {'file': 'data/sd_2_1_dogs_with_modifiers_small\\\\image_4896_n.jpg', 'score': 9.712384780868888e-06}, {'file': 'data/sd_2_1_dogs_with_modifiers_small\\\\image_2173_n.jpg', 'score': 9.724007213662844e-06}, {'file': 'data/sd_2_1_dogs_with_modifiers_small\\\\image_11539_n.jpg', 'score': 9.764923561306205e-06}, {'file': 'data/sd_2_1_dogs_with_modifiers_small\\\\image_5368_n.jpg', 'score': 9.88347801467171e-06}, {'file': 'data/sd_2_1_dogs_with_modifiers_small\\\\image_7519_n.jpg', 'score': 1.0024307812273037e-05}, {'file': 'data/sd_2_1_dogs_with_modifiers_small\\\\image_3832_n.jpg', 'score': 1.0092163392982911e-05}, {'file': 'data/sd_2_1_dogs_with_modifiers_small\\\\image_4518_n.jpg', 'score': 1.0362700777477585e-05}, {'file': 'data/sd_2_1_dogs_with_modifiers_small\\\\image_1472_n.jpg', 'score': 1.0450471563672181e-05}, {'file': 'data/sd_2_1_dogs_with_modifiers_small\\\\image_7690_n.jpg', 'score': 1.0511022082937416e-05}, {'file': 'data/sd_2_1_dogs_with_modifiers_small\\\\image_10472_n.jpg', 'score': 1.0617004591040313e-05}, {'file': 'data/sd_2_1_dogs_with_modifiers_small\\\\image_4394_n.jpg', 'score': 1.0764294529508334e-05}, {'file': 'data/sd_2_1_dogs_with_modifiers_small\\\\image_8462_n.jpg', 'score': 1.0796916285471525e-05}, {'file': 'data/sd_2_1_dogs_with_modifiers_small\\\\image_9622_n.jpg', 'score': 1.0942786502710078e-05}, {'file': 'data/sd_2_1_dogs_with_modifiers_small\\\\image_11107_n.jpg', 'score': 1.1094203728134744e-05}, {'file': 'data/sd_2_1_dogs_with_modifiers_small\\\\image_8337_n.jpg', 'score': 1.135340517066652e-05}, {'file': 'data/sd_2_1_dogs_with_modifiers_small\\\\image_11801_n.jpg', 'score': 1.1472618098196108e-05}, {'file': 'data/sd_2_1_dogs_with_modifiers_small\\\\image_437_n.jpg', 'score': 1.152490312961163e-05}, {'file': 'data/sd_2_1_dogs_with_modifiers_small\\\\image_4129_n.jpg', 'score': 1.1739774890884291e-05}, {'file': 'data/sd_2_1_dogs_with_modifiers_small\\\\image_11503_n.jpg', 'score': 1.1795032150985207e-05}, {'file': 'data/sd_2_1_dogs_with_modifiers_small\\\\image_3807_n.jpg', 'score': 1.2289146070543211e-05}, {'file': 'data/sd_2_1_dogs_with_modifiers_small\\\\image_3607_n.jpg', 'score': 1.234236333402805e-05}, {'file': 'data/sd_2_1_dogs_with_modifiers_small\\\\image_6785_n.jpg', 'score': 1.258197607967304e-05}, {'file': 'data/sd_2_1_dogs_with_modifiers_small\\\\image_4094_n.jpg', 'score': 1.2608737961272709e-05}, {'file': 'data/sd_2_1_dogs_with_modifiers_small\\\\image_11266_n.jpg', 'score': 1.2649422387767117e-05}, {'file': 'data/sd_2_1_dogs_with_modifiers_small\\\\image_1853_n.jpg', 'score': 1.2653536941797938e-05}, {'file': 'data/sd_2_1_dogs_with_modifiers_small\\\\image_3735_n.jpg', 'score': 1.2784571481461171e-05}, {'file': 'data/sd_2_1_dogs_with_modifiers_small\\\\image_5102_n.jpg', 'score': 1.3221992048784159e-05}, {'file': 'data/sd_2_1_dogs_with_modifiers_small\\\\image_3754_n.jpg', 'score': 1.3400088391790632e-05}, {'file': 'data/sd_2_1_dogs_with_modifiers_small\\\\image_1399_n.jpg', 'score': 1.3424135431705508e-05}, {'file': 'data/sd_2_1_dogs_with_modifiers_small\\\\image_10938_n.jpg', 'score': 1.3799432053929195e-05}, {'file': 'data/sd_2_1_dogs_with_modifiers_small\\\\image_3463_n.jpg', 'score': 1.3931542525824625e-05}, {'file': 'data/sd_2_1_dogs_with_modifiers_small\\\\image_9002_n.jpg', 'score': 1.4084660506341606e-05}, {'file': 'data/sd_2_1_dogs_with_modifiers_small\\\\image_524_n.jpg', 'score': 1.4219176591723226e-05}, {'file': 'data/sd_2_1_dogs_with_modifiers_small\\\\image_6043_n.jpg', 'score': 1.4313269275589846e-05}, {'file': 'data/sd_2_1_dogs_with_modifiers_small\\\\image_2002_n.jpg', 'score': 1.4356864085129928e-05}, {'file': 'data/sd_2_1_dogs_with_modifiers_small\\\\image_6385_n.jpg', 'score': 1.4428168469748925e-05}, {'file': 'data/sd_2_1_dogs_with_modifiers_small\\\\image_684_n.jpg', 'score': 1.4511336303257849e-05}, {'file': 'data/sd_2_1_dogs_with_modifiers_small\\\\image_8370_n.jpg', 'score': 1.4791560715821106e-05}, {'file': 'data/sd_2_1_dogs_with_modifiers_small\\\\image_2946_n.jpg', 'score': 1.4872440260660369e-05}, {'file': 'data/sd_2_1_dogs_with_modifiers_small\\\\image_4149_n.jpg', 'score': 1.5203679140540771e-05}, {'file': 'data/sd_2_1_dogs_with_modifiers_small\\\\image_5161_n.jpg', 'score': 1.543046710139606e-05}, {'file': 'data/sd_2_1_dogs_with_modifiers_small\\\\image_4582_n.jpg', 'score': 1.543984399177134e-05}, {'file': 'data/sd_2_1_dogs_with_modifiers_small\\\\image_6186_n.jpg', 'score': 1.5506882846239023e-05}, {'file': 'data/sd_2_1_dogs_with_modifiers_small\\\\image_2888_n.jpg', 'score': 1.564034027978778e-05}, {'file': 'data/sd_2_1_dogs_with_modifiers_small\\\\image_11778_n.jpg', 'score': 1.5655383322155103e-05}, {'file': 'data/sd_2_1_dogs_with_modifiers_small\\\\image_6259_n.jpg', 'score': 1.5717405403847806e-05}, {'file': 'data/sd_2_1_dogs_with_modifiers_small\\\\image_4646_n.jpg', 'score': 1.586846701684408e-05}, {'file': 'data/sd_2_1_dogs_with_modifiers_small\\\\image_3943_n.jpg', 'score': 1.5884666936472058e-05}, {'file': 'data/sd_2_1_dogs_with_modifiers_small\\\\image_5880_n.jpg', 'score': 1.595161302248016e-05}, {'file': 'data/sd_2_1_dogs_with_modifiers_small\\\\image_5778_n.jpg', 'score': 1.633359534025658e-05}, {'file': 'data/sd_2_1_dogs_with_modifiers_small\\\\image_7405_n.jpg', 'score': 1.6462483472423628e-05}, {'file': 'data/sd_2_1_dogs_with_modifiers_small\\\\image_11011_n.jpg', 'score': 1.650080412218813e-05}, {'file': 'data/sd_2_1_dogs_with_modifiers_small\\\\image_10345_n.jpg', 'score': 1.6780704754637554e-05}, {'file': 'data/sd_2_1_dogs_with_modifiers_small\\\\image_7035_n.jpg', 'score': 1.6860589312273078e-05}, {'file': 'data/sd_2_1_dogs_with_modifiers_small\\\\image_6189_n.jpg', 'score': 1.694523416517768e-05}, {'file': 'data/sd_2_1_dogs_with_modifiers_small\\\\image_7688_n.jpg', 'score': 1.715275902824942e-05}, {'file': 'data/sd_2_1_dogs_with_modifiers_small\\\\image_1208_n.jpg', 'score': 1.7154870874946937e-05}, {'file': 'data/sd_2_1_dogs_with_modifiers_small\\\\image_4359_n.jpg', 'score': 1.746184534567874e-05}, {'file': 'data/sd_2_1_dogs_with_modifiers_small\\\\image_1951_n.jpg', 'score': 1.767360845406074e-05}, {'file': 'data/sd_2_1_dogs_with_modifiers_small\\\\image_7484_n.jpg', 'score': 1.772253745002672e-05}, {'file': 'data/sd_2_1_dogs_with_modifiers_small\\\\image_4565_n.jpg', 'score': 1.7767348253983073e-05}, {'file': 'data/sd_2_1_dogs_with_modifiers_small\\\\image_390_n.jpg', 'score': 1.7795413441490382e-05}, {'file': 'data/sd_2_1_dogs_with_modifiers_small\\\\image_2633_n.jpg', 'score': 1.7807125914259814e-05}, {'file': 'data/sd_2_1_dogs_with_modifiers_small\\\\image_7274_n.jpg', 'score': 1.799793062673416e-05}, {'file': 'data/sd_2_1_dogs_with_modifiers_small\\\\image_11965_n.jpg', 'score': 1.8088301658281125e-05}, {'file': 'data/sd_2_1_dogs_with_modifiers_small\\\\image_6558_n.jpg', 'score': 1.8274937247042544e-05}, {'file': 'data/sd_2_1_dogs_with_modifiers_small\\\\image_2397_n.jpg', 'score': 1.8284001271240413e-05}, {'file': 'data/sd_2_1_dogs_with_modifiers_small\\\\image_7002_n.jpg', 'score': 1.8480339349480346e-05}, {'file': 'data/sd_2_1_dogs_with_modifiers_small\\\\image_6087_n.jpg', 'score': 1.8553251720732078e-05}, {'file': 'data/sd_2_1_dogs_with_modifiers_small\\\\image_3784_n.jpg', 'score': 1.9095490642939694e-05}, {'file': 'data/sd_2_1_dogs_with_modifiers_small\\\\image_2635_n.jpg', 'score': 1.9123244783258997e-05}, {'file': 'data/sd_2_1_dogs_with_modifiers_small\\\\image_1046_n.jpg', 'score': 1.9231110854889266e-05}, {'file': 'data/sd_2_1_dogs_with_modifiers_small\\\\image_2783_n.jpg', 'score': 1.9444587451289408e-05}, {'file': 'data/sd_2_1_dogs_with_modifiers_small\\\\image_6644_n.jpg', 'score': 1.9750055798795074e-05}, {'file': 'data/sd_2_1_dogs_with_modifiers_small\\\\image_2109_n.jpg', 'score': 1.9760982468142174e-05}, {'file': 'data/sd_2_1_dogs_with_modifiers_small\\\\image_355_n.jpg', 'score': 1.981043715204578e-05}, {'file': 'data/sd_2_1_dogs_with_modifiers_small\\\\image_8220_n.jpg', 'score': 1.9980343495262787e-05}, {'file': 'data/sd_2_1_dogs_with_modifiers_small\\\\image_5812_n.jpg', 'score': 2.007226248679217e-05}, {'file': 'data/sd_2_1_dogs_with_modifiers_small\\\\image_4943_n.jpg', 'score': 2.0072779079782777e-05}, {'file': 'data/sd_2_1_dogs_with_modifiers_small\\\\image_7502_n.jpg', 'score': 2.0117910025874153e-05}, {'file': 'data/sd_2_1_dogs_with_modifiers_small\\\\image_6532_n.jpg', 'score': 2.0160585336270742e-05}, {'file': 'data/sd_2_1_dogs_with_modifiers_small\\\\image_4370_n.jpg', 'score': 2.0442530512809753e-05}, {'file': 'data/sd_2_1_dogs_with_modifiers_small\\\\image_9637_n.jpg', 'score': 2.059790858766064e-05}, {'file': 'data/sd_2_1_dogs_with_modifiers_small\\\\image_6412_n.jpg', 'score': 2.063255124085117e-05}, {'file': 'data/sd_2_1_dogs_with_modifiers_small\\\\image_7174_n.jpg', 'score': 2.070795017061755e-05}, {'file': 'data/sd_2_1_dogs_with_modifiers_small\\\\image_6304_n.jpg', 'score': 2.0731067706947215e-05}, {'file': 'data/sd_2_1_dogs_with_modifiers_small\\\\image_10582_n.jpg', 'score': 2.1075647964607924e-05}, {'file': 'data/sd_2_1_dogs_with_modifiers_small\\\\image_8240_n.jpg', 'score': 2.111274443450384e-05}, {'file': 'data/sd_2_1_dogs_with_modifiers_small\\\\image_11329_n.jpg', 'score': 2.15431755350437e-05}, {'file': 'data/sd_2_1_dogs_with_modifiers_small\\\\image_5830_n.jpg', 'score': 2.1646887034876272e-05}, {'file': 'data/sd_2_1_dogs_with_modifiers_small\\\\image_2687_n.jpg', 'score': 2.1838393877260387e-05}, {'file': 'data/sd_2_1_dogs_with_modifiers_small\\\\image_26_n.jpg', 'score': 2.1952922907075845e-05}, {'file': 'data/sd_2_1_dogs_with_modifiers_small\\\\image_8396_n.jpg', 'score': 2.201090865128208e-05}, {'file': 'data/sd_2_1_dogs_with_modifiers_small\\\\image_4197_n.jpg', 'score': 2.213934567407705e-05}, {'file': 'data/sd_2_1_dogs_with_modifiers_small\\\\image_6671_n.jpg', 'score': 2.2610211090068333e-05}, {'file': 'data/sd_2_1_dogs_with_modifiers_small\\\\image_3240_n.jpg', 'score': 2.286494964209851e-05}, {'file': 'data/sd_2_1_dogs_with_modifiers_small\\\\image_11637_n.jpg', 'score': 2.3233960746438242e-05}, {'file': 'data/sd_2_1_dogs_with_modifiers_small\\\\image_5503_n.jpg', 'score': 2.3406582840834744e-05}, {'file': 'data/sd_2_1_dogs_with_modifiers_small\\\\image_4508_n.jpg', 'score': 2.3470331143471412e-05}, {'file': 'data/sd_2_1_dogs_with_modifiers_small\\\\image_10283_n.jpg', 'score': 2.3690210582572035e-05}, {'file': 'data/sd_2_1_dogs_with_modifiers_small\\\\image_12341_n.jpg', 'score': 2.3724258426227607e-05}, {'file': 'data/sd_2_1_dogs_with_modifiers_small\\\\image_4524_n.jpg', 'score': 2.3837676053517498e-05}, {'file': 'data/sd_2_1_dogs_with_modifiers_small\\\\image_8563_n.jpg', 'score': 2.4127930373651907e-05}, {'file': 'data/sd_2_1_dogs_with_modifiers_small\\\\image_10057_n.jpg', 'score': 2.4150353056029417e-05}, {'file': 'data/sd_2_1_dogs_with_modifiers_small\\\\image_5942_n.jpg', 'score': 2.453332308505196e-05}, {'file': 'data/sd_2_1_dogs_with_modifiers_small\\\\image_4824_n.jpg', 'score': 2.4719181965338066e-05}, {'file': 'data/sd_2_1_dogs_with_modifiers_small\\\\image_2749_n.jpg', 'score': 2.48430860665394e-05}, {'file': 'data/sd_2_1_dogs_with_modifiers_small\\\\image_6699_n.jpg', 'score': 2.5475319489487447e-05}, {'file': 'data/sd_2_1_dogs_with_modifiers_small\\\\image_9723_n.jpg', 'score': 2.5702680432004854e-05}, {'file': 'data/sd_2_1_dogs_with_modifiers_small\\\\image_11706_n.jpg', 'score': 2.5704615836730227e-05}, {'file': 'data/sd_2_1_dogs_with_modifiers_small\\\\image_5155_n.jpg', 'score': 2.5722640202729963e-05}, {'file': 'data/sd_2_1_dogs_with_modifiers_small\\\\image_1511_n.jpg', 'score': 2.5835135602392256e-05}, {'file': 'data/sd_2_1_dogs_with_modifiers_small\\\\image_5312_n.jpg', 'score': 2.6161013011005707e-05}, {'file': 'data/sd_2_1_dogs_with_modifiers_small\\\\image_10518_n.jpg', 'score': 2.6264502594131045e-05}, {'file': 'data/sd_2_1_dogs_with_modifiers_small\\\\image_2595_n.jpg', 'score': 2.6374538720119745e-05}, {'file': 'data/sd_2_1_dogs_with_modifiers_small\\\\image_2535_n.jpg', 'score': 2.652596049301792e-05}, {'file': 'data/sd_2_1_dogs_with_modifiers_small\\\\image_1665_n.jpg', 'score': 2.661797043401748e-05}, {'file': 'data/sd_2_1_dogs_with_modifiers_small\\\\image_6953_n.jpg', 'score': 2.680049692571629e-05}, {'file': 'data/sd_2_1_dogs_with_modifiers_small\\\\image_7945_n.jpg', 'score': 2.6847306799027137e-05}, {'file': 'data/sd_2_1_dogs_with_modifiers_small\\\\image_646_n.jpg', 'score': 2.692792440939229e-05}, {'file': 'data/sd_2_1_dogs_with_modifiers_small\\\\image_4634_n.jpg', 'score': 2.731583663262427e-05}, {'file': 'data/sd_2_1_dogs_with_modifiers_small\\\\image_11394_n.jpg', 'score': 2.74901158263674e-05}, {'file': 'data/sd_2_1_dogs_with_modifiers_small\\\\image_9257_n.jpg', 'score': 2.7491452783579007e-05}, {'file': 'data/sd_2_1_dogs_with_modifiers_small\\\\image_10837_n.jpg', 'score': 2.7546326236915775e-05}, {'file': 'data/sd_2_1_dogs_with_modifiers_small\\\\image_10804_n.jpg', 'score': 2.7560570742934942e-05}, {'file': 'data/sd_2_1_dogs_with_modifiers_small\\\\image_11534_n.jpg', 'score': 2.763903103186749e-05}, {'file': 'data/sd_2_1_dogs_with_modifiers_small\\\\image_242_n.jpg', 'score': 2.7663503715302795e-05}, {'file': 'data/sd_2_1_dogs_with_modifiers_small\\\\image_764_n.jpg', 'score': 2.7857502573169768e-05}, {'file': 'data/sd_2_1_dogs_with_modifiers_small\\\\image_7418_n.jpg', 'score': 2.801858317980077e-05}, {'file': 'data/sd_2_1_dogs_with_modifiers_small\\\\image_1978_n.jpg', 'score': 2.8019225283060223e-05}, {'file': 'data/sd_2_1_dogs_with_modifiers_small\\\\image_8761_n.jpg', 'score': 2.808546196320094e-05}, {'file': 'data/sd_2_1_dogs_with_modifiers_small\\\\image_7139_n.jpg', 'score': 2.833025428117253e-05}, {'file': 'data/sd_2_1_dogs_with_modifiers_small\\\\image_3426_n.jpg', 'score': 2.8355743779684417e-05}, {'file': 'data/sd_2_1_dogs_with_modifiers_small\\\\image_1422_n.jpg', 'score': 2.8556856705108657e-05}, {'file': 'data/sd_2_1_dogs_with_modifiers_small\\\\image_1035_n.jpg', 'score': 2.8632992325583473e-05}, {'file': 'data/sd_2_1_dogs_with_modifiers_small\\\\image_2415_n.jpg', 'score': 2.8847654903074726e-05}, {'file': 'data/sd_2_1_dogs_with_modifiers_small\\\\image_5029_n.jpg', 'score': 2.8910582841490395e-05}, {'file': 'data/sd_2_1_dogs_with_modifiers_small\\\\image_10388_n.jpg', 'score': 2.8916123483213596e-05}, {'file': 'data/sd_2_1_dogs_with_modifiers_small\\\\image_6363_n.jpg', 'score': 2.9050037483102642e-05}]\n"
     ]
    },
    {
     "name": "stderr",
     "output_type": "stream",
     "text": [
      "\n"
     ]
    }
   ],
   "source": [
    "dataset_3 = CIFAKEDataset(\"data/sd_2_1_dogs_with_modifiers_small\", num_processes=4, use_cifake_fold_structure=False)\n",
    "\n",
    "results = []\n",
    "for x, y in tqdm(dataset_3, desc=\"Evaluating images\"):\n",
    "    x = x.unsqueeze(0)\n",
    "    with torch.no_grad():\n",
    "        output = model_2(x).squeeze().item()\n",
    "        file = dataset_3.latest_file_path\n",
    "        results.append({\"file\": file, \"score\": output})\n",
    "\n",
    "# Sort the list of dictionaries by the \"score\" key\n",
    "sorted_results = sorted(results, key=lambda x: x['score'])\n",
    "most_fakes = sorted_results[:200]\n",
    "print(most_fakes)"
   ]
  },
  {
   "cell_type": "code",
   "execution_count": null,
   "id": "b50cc708-6941-4036-83ef-da83a39d7524",
   "metadata": {},
   "outputs": [],
   "source": []
  }
 ],
 "metadata": {
  "kernelspec": {
   "display_name": "Python 3 (ipykernel)",
   "language": "python",
   "name": "python3"
  },
  "language_info": {
   "codemirror_mode": {
    "name": "ipython",
    "version": 3
   },
   "file_extension": ".py",
   "mimetype": "text/x-python",
   "name": "python",
   "nbconvert_exporter": "python",
   "pygments_lexer": "ipython3",
   "version": "3.10.6"
  }
 },
 "nbformat": 4,
 "nbformat_minor": 5
}
